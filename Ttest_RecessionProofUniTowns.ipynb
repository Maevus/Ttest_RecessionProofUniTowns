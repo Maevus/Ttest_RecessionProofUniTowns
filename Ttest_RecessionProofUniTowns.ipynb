{
 "cells": [
  {
   "cell_type": "markdown",
   "metadata": {},
   "source": [
    "**Hypothesis**: University towns have their mean housing prices less effected by recessions. \n",
    "\n",
    "(`price_ratio=quarter_before_recession/recession_bottom`)\n"
   ]
  },
  {
   "cell_type": "code",
   "execution_count": 3,
   "metadata": {
    "collapsed": true
   },
   "outputs": [],
   "source": [
    "import pandas as pd\n",
    "import numpy as np\n",
    "from scipy import stats"
   ]
  },
  {
   "cell_type": "code",
   "execution_count": 4,
   "metadata": {
    "collapsed": true
   },
   "outputs": [],
   "source": [
    "# Use this dictionary to map state names to two letter acronyms\n",
    "states = {'OH': 'Ohio', 'KY': 'Kentucky', 'AS': 'American Samoa', 'NV': 'Nevada', 'WY': 'Wyoming', 'NA': 'National', 'AL': 'Alabama', 'MD': 'Maryland', 'AK': 'Alaska', 'UT': 'Utah', 'OR': 'Oregon', 'MT': 'Montana', 'IL': 'Illinois', 'TN': 'Tennessee', 'DC': 'District of Columbia', 'VT': 'Vermont', 'ID': 'Idaho', 'AR': 'Arkansas', 'ME': 'Maine', 'WA': 'Washington', 'HI': 'Hawaii', 'WI': 'Wisconsin', 'MI': 'Michigan', 'IN': 'Indiana', 'NJ': 'New Jersey', 'AZ': 'Arizona', 'GU': 'Guam', 'MS': 'Mississippi', 'PR': 'Puerto Rico', 'NC': 'North Carolina', 'TX': 'Texas', 'SD': 'South Dakota', 'MP': 'Northern Mariana Islands', 'IA': 'Iowa', 'MO': 'Missouri', 'CT': 'Connecticut', 'WV': 'West Virginia', 'SC': 'South Carolina', 'LA': 'Louisiana', 'KS': 'Kansas', 'NY': 'New York', 'NE': 'Nebraska', 'OK': 'Oklahoma', 'FL': 'Florida', 'CA': 'California', 'CO': 'Colorado', 'PA': 'Pennsylvania', 'DE': 'Delaware', 'NM': 'New Mexico', 'RI': 'Rhode Island', 'MN': 'Minnesota', 'VI': 'Virgin Islands', 'NH': 'New Hampshire', 'MA': 'Massachusetts', 'GA': 'Georgia', 'ND': 'North Dakota', 'VA': 'Virginia'}"
   ]
  },
  {
   "cell_type": "code",
   "execution_count": 6,
   "metadata": {
    "collapsed": false
   },
   "outputs": [],
   "source": [
    "def get_list_of_university_towns():\n",
    "    '''Returns a DataFrame of towns and the states they are in from the \n",
    "    university_towns.txt list. The format of the DataFrame should be:\n",
    "    DataFrame( [ [\"Michigan\", \"Ann Arbor\"], [\"Michigan\", \"Yipsilanti\"] ], \n",
    "    columns=[\"State\", \"RegionName\"]  )\n",
    "    '''\n",
    "    \n",
    "    raw_df = pd.read_csv('university_towns.txt', sep='\\n', header=None, names=['RegionName'])\n",
    "    raw_df['State'] = None\n",
    "    \n",
    "    iStates = []\n",
    "    for row in raw_df.itertuples():\n",
    "        if row[1][-6:] == '[edit]':\n",
    "            iStates.append(row[0])\n",
    "            raw_df['State'].iloc[row[0]] = row[1][:-6]\n",
    "    \n",
    "    raw_df['State'] = raw_df['State'].ffill()\n",
    "    raw_df = raw_df[['State', 'RegionName']]\n",
    "    raw_df = raw_df.drop(raw_df.index[iStates])\n",
    "    \n",
    "    raw_df['RegionName'] = raw_df['RegionName'].str.split('\\s\\(',).str.get(0)\n",
    "    df = raw_df.reset_index(drop=True)\n",
    "    \n",
    "    return df\n"
   ]
  },
  {
   "cell_type": "code",
   "execution_count": 8,
   "metadata": {
    "collapsed": false
   },
   "outputs": [],
   "source": [
    "def get_recession_start():\n",
    "    '''Returns the year and quarter of the recession start time as a \n",
    "    string value in a format such as 2005q3'''\n",
    "    GDP = pd.read_excel(\"gdplev.xls\", header=None, usecols=[4,6], skiprows=220,names=('Year_Quarter','GDP'))\n",
    "    GDP['GDP Change']=None\n",
    "\n",
    "    for row in GDP.itertuples():\n",
    "        if row[0]>0:\n",
    "            GDP['GDP Change'].iloc[row[0]] = GDP['GDP'].iloc[row[0]]-GDP['GDP'].iloc[row[0]-1]\n",
    "        else:\n",
    "            GDP['GDP Change'].iloc[row[0]]= np.nan\n",
    "            \n",
    "    GDP['Change Type']=np.where(GDP['GDP Change'] > 0,   'Growth', 'Decline')\n",
    "    GDP['Change Type'].iloc[0]=np.nan\n",
    "    \n",
    "    GDP['Change Type S'] = GDP['Change Type'].shift(1)\n",
    "    \n",
    "    rec = (\n",
    "        GDP.where((GDP['Change Type S'] == GDP['Change Type']) & (GDP['Change Type'] == 'Decline'))\n",
    "        .dropna()\n",
    "    )\n",
    "    \n",
    "    recStr =  rec['Year_Quarter'].iloc[0]\n",
    "    \n",
    "    q2 = GDP.loc[GDP.Year_Quarter==recStr].index.tolist()\n",
    "    i = q2[0]-1\n",
    "    \n",
    "    output = GDP.iloc[i][\"Year_Quarter\"]\n",
    "    \n",
    "    return output\n",
    "\n"
   ]
  },
  {
   "cell_type": "code",
   "execution_count": 9,
   "metadata": {
    "collapsed": false
   },
   "outputs": [
    {
     "data": {
      "text/plain": [
       "u'2009q4'"
      ]
     },
     "execution_count": 9,
     "metadata": {},
     "output_type": "execute_result"
    }
   ],
   "source": [
    "def get_recession_end():\n",
    "    '''Returns the year and quarter of the recession end time as a \n",
    "    string value in a format such as 2005q3'''\n",
    "    GDP = pd.read_excel(\"gdplev.xls\", header=None, usecols=[4,6], skiprows=220,names=('Year_Quarter','GDP'))\n",
    "    GDP['GDP Change']=None\n",
    "\n",
    "    for row in GDP.itertuples():\n",
    "        if row[0]>0:\n",
    "            GDP['GDP Change'].iloc[row[0]] = GDP['GDP'].iloc[row[0]]-GDP['GDP'].iloc[row[0]-1]\n",
    "        else:\n",
    "            GDP['GDP Change'].iloc[row[0]]= np.nan\n",
    "            \n",
    "    GDP['Change Type']=np.where(GDP['GDP Change'] > 0,   'Growth', 'Decline')\n",
    "    GDP['Change Type'].iloc[0]=np.nan\n",
    "    \n",
    "    GDP['Change Type S'] = GDP['Change Type'].shift(1)\n",
    "    \n",
    "    rec = (\n",
    "        GDP.where((GDP['Change Type S'] == GDP['Change Type']) & (GDP['Change Type'] == 'Decline'))\n",
    "        .dropna()\n",
    "    )\n",
    "    \n",
    "    recStart =  rec['Year_Quarter'].iloc[0]\n",
    "    \n",
    "    GDP = GDP.set_index('Year_Quarter')\n",
    "    GDP = GDP.loc[recStart:]\n",
    "    \n",
    "    recEnd = (\n",
    "        GDP.where((GDP['Change Type S'] == GDP['Change Type']) & (GDP['Change Type'] == 'Growth'))\n",
    "        .dropna()\n",
    "    )\n",
    "    \n",
    "    recEnd['Year_Quarter'] = recEnd.index\n",
    "    recEnd = recEnd.reset_index(drop=True)\n",
    "    end = recEnd['Year_Quarter'].iloc[0]\n",
    "           \n",
    "    return end\n",
    "       \n",
    "get_recession_end()"
   ]
  },
  {
   "cell_type": "code",
   "execution_count": 10,
   "metadata": {
    "collapsed": false
   },
   "outputs": [],
   "source": [
    "def get_recession_bottom():\n",
    "    '''Returns the year and quarter of the recession bottom time as a \n",
    "    string value in a format such as 2005q3'''\n",
    "    \n",
    "    GDP = pd.read_excel(\"gdplev.xls\", header=None, usecols=[4,6], skiprows=220,names=('Year_Quarter','GDP'))\n",
    "    GDP['GDP Change']=None\n",
    "\n",
    "    for row in GDP.itertuples():\n",
    "        if row[0]>0:\n",
    "            GDP['GDP Change'].iloc[row[0]] = GDP['GDP'].iloc[row[0]]-GDP['GDP'].iloc[row[0]-1]\n",
    "        else:\n",
    "            GDP['GDP Change'].iloc[row[0]]= np.nan\n",
    "            \n",
    "    GDP['Change Type']=np.where(GDP['GDP Change'] > 0,   'Growth', 'Decline')\n",
    "    GDP['Change Type'].iloc[0]=np.nan\n",
    "    \n",
    "    GDP['Change Type S'] = GDP['Change Type'].shift(1)\n",
    "    \n",
    "    rec = (\n",
    "        GDP.where((GDP['Change Type S'] == GDP['Change Type']) & (GDP['Change Type'] == 'Decline'))\n",
    "        .dropna()\n",
    "    )\n",
    "    \n",
    "    recStart =  rec['Year_Quarter'].iloc[0]\n",
    "    \n",
    "       \n",
    "    GDP = GDP.set_index('Year_Quarter')\n",
    "    GDP = GDP.loc[recStart:]\n",
    "    \n",
    "    recEnd = (\n",
    "        GDP.where((GDP['Change Type S'] == GDP['Change Type']) & (GDP['Change Type'] == 'Growth'))\n",
    "        .dropna()\n",
    "    )\n",
    "    \n",
    "    recEnd['Year_Quarter'] = recEnd.index\n",
    "    recEnd = recEnd.reset_index(drop=True)\n",
    "    end = recEnd['Year_Quarter'].iloc[0]\n",
    "    \n",
    "    GDP = GDP.loc[:end]\n",
    "    \n",
    "    bottom = GDP.GDP.argmin()\n",
    "    \n",
    "    return bottom\n"
   ]
  },
  {
   "cell_type": "code",
   "execution_count": 11,
   "metadata": {
    "collapsed": false
   },
   "outputs": [],
   "source": [
    "def convert_housing_data_to_quarters():\n",
    "    '''Converts the housing data to quarters and returns it as mean \n",
    "    values in a dataframe. This dataframe should be a dataframe with\n",
    "    columns for 2000q1 through 2016q3, and should have a multi-index\n",
    "    in the shape of [\"State\",\"RegionName\"].\n",
    "    \n",
    "    Note: Quarters are defined in the assignment description, they are\n",
    "    not arbitrary three month periods.\n",
    "    \n",
    "    The resulting dataframe should have 67 columns, and 10,730 rows.\n",
    "    '''\n",
    "    \n",
    "    houses = pd.read_csv('City_Zhvi_AllHomes.csv')\n",
    "    #2001-01 index 51\n",
    "    years = list(houses.columns.values)[51:]\n",
    "    tdf = houses[years]\n",
    "    tdf = tdf.rename(columns = lambda n: pd.to_datetime(n))\n",
    "    mdf = tdf.resample('Q',axis=1).mean() \n",
    "    \n",
    "    mdf = mdf.rename(columns = lambda n: '{:}q{:}'.format(n.year, n.quarter))\n",
    "    mdf['RegionName'] = houses['RegionName']\n",
    "    mdf['State'] = houses['State']\n",
    "    mdf = mdf.replace({\"State\":states}) \n",
    "    mdf = mdf.set_index(['State', 'RegionName'])\n",
    "    \n",
    "    return mdf\n",
    "\n"
   ]
  },
  {
   "cell_type": "code",
   "execution_count": 12,
   "metadata": {
    "collapsed": false
   },
   "outputs": [
    {
     "data": {
      "text/plain": [
       "(True, 0.0041068884965618641, 'university town')"
      ]
     },
     "execution_count": 12,
     "metadata": {},
     "output_type": "execute_result"
    }
   ],
   "source": [
    "def run_ttest():\n",
    "    '''First creates new data showing the decline or growth of housing prices\n",
    "    between the recession start and the recession bottom. \n",
    "    Then runs a ttest comparing the university town values to the non-university towns values, \n",
    "    return whether the alternative hypothesis (that the two groups are the same)\n",
    "    is true or not as well as the p-value of the confidence. \n",
    "    \n",
    "    Return the tuple (different, p, better) where different=True if the t-test is\n",
    "    True at a p<0.01 (we reject the null hypothesis), or different=False if \n",
    "    otherwise (we cannot reject the null hypothesis). The variable p should\n",
    "    be equal to the exact p value returned from scipy.stats.ttest_ind(). The\n",
    "    value for better should be either \"university town\" or \"non-university town\"\n",
    "    depending on which has a lower mean price ratio (which is equivilent to a\n",
    "    reduced market loss).'''\n",
    "    \n",
    "    hdf = convert_housing_data_to_quarters()\n",
    "    rec_start=get_recession_start()\n",
    "    rec_bottom = get_recession_bottom()\n",
    "    ul = get_list_of_university_towns()\n",
    "    \n",
    "    qrtb4rec = '2008q2'\n",
    "    \n",
    "    #some nan values due to missing data on certain towes\n",
    "    hdf['PriceRatio'] = hdf[qrtb4rec].div(hdf[rec_start])\n",
    "    \n",
    "    uniList=[tuple(x) for x in ul.to_records(index=False)]\n",
    "    uniTowns = hdf.loc[uniList]\n",
    "    nonUni = hdf.loc[~hdf.index.isin(uniList)]\n",
    "    \n",
    "    meanUni = uniTowns['PriceRatio'].mean()\n",
    "    meanNonUni = nonUni['PriceRatio'].mean()\n",
    "    res = stats.ttest_ind(uniTowns['PriceRatio'], nonUni['PriceRatio'],nan_policy='omit')\n",
    "    \n",
    "    p = res[1]\n",
    "    pval = 0.01\n",
    "    different = None\n",
    "    better = None\n",
    "    \n",
    "    if p < pval:\n",
    "        different=True\n",
    "    else:\n",
    "        different=False\n",
    "    \n",
    "    if meanUni < meanNonUni:\n",
    "        better = \"university town\"\n",
    "    else:\n",
    "        better = \"non-university town\"\n",
    "    \n",
    "    \n",
    "    output = (different,p,better)\n",
    "    \n",
    "    return output\n",
    "\n",
    "run_ttest()"
   ]
  },
  {
   "cell_type": "code",
   "execution_count": null,
   "metadata": {
    "collapsed": true
   },
   "outputs": [],
   "source": []
  }
 ],
 "metadata": {
  "anaconda-cloud": {},
  "coursera": {
   "course_slug": "python-data-analysis",
   "graded_item_id": "Il9Fx",
   "launcher_item_id": "TeDW0",
   "part_id": "WGlun"
  },
  "kernelspec": {
   "display_name": "Python [default]",
   "language": "python",
   "name": "python2"
  },
  "language_info": {
   "codemirror_mode": {
    "name": "ipython",
    "version": 2
   },
   "file_extension": ".py",
   "mimetype": "text/x-python",
   "name": "python",
   "nbconvert_exporter": "python",
   "pygments_lexer": "ipython2",
   "version": "2.7.12"
  }
 },
 "nbformat": 4,
 "nbformat_minor": 1
}
